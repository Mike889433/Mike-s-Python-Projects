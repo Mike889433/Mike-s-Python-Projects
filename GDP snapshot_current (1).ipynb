{
 "cells": [
  {
   "cell_type": "markdown",
   "id": "ecb3c490",
   "metadata": {},
   "source": [
    "Downloaded GDP data from the Beaureau of Economic Analysis, Personal Consumption Expenditure data from Beaureau of Economic Analysis, US Unemployment data from Beaureau of Labor Statistics, and Consumer Price Index data from Beaureau of Labor Statistics.\n",
    "\n",
    "imported all data sources into associated pandas dataframes using pd.read_excel function"
   ]
  },
  {
   "cell_type": "markdown",
   "id": "3a688e6b",
   "metadata": {},
   "source": [
    "Import Pandas Library\n",
    "Import Matplotlib"
   ]
  },
  {
   "cell_type": "code",
   "execution_count": 20,
   "id": "5f7a5c57",
   "metadata": {},
   "outputs": [],
   "source": [
    "import pandas as pd\n",
    "import matplotlib\n",
    "import matplotlib.pyplot as plt"
   ]
  },
  {
   "cell_type": "code",
   "execution_count": 3,
   "id": "88521d10",
   "metadata": {},
   "outputs": [],
   "source": [
    "\n",
    "gdp_df = pd.read_excel(r\"C:\\Users\\Mike8\\Desktop\\analytics\\python\\projects\\2024\\US Economy snapshot\\gdp.xlsx\", sheet_name = \"Table 12\" )\n",
    "cpi_df = pd.read_excel(r\"C:\\Users\\Mike8\\Desktop\\analytics\\python\\projects\\2024\\US Economy snapshot\\cpi.xlsx\", sheet_name = \"cpi\")\n",
    "unemployment_df = pd.read_excel(r\"C:\\Users\\Mike8\\Desktop\\analytics\\python\\projects\\2024\\US Economy snapshot\\unemployment.xlsx\", sheet_name=\"unemployment\")\n",
    "pce_df = pd.read_excel(r\"C:\\Users\\Mike8\\Desktop\\analytics\\python\\projects\\2024\\US Economy snapshot\\pce.xlsx\", sheet_name = \"Sheet1\")"
   ]
  },
  {
   "cell_type": "markdown",
   "id": "8c9f2514",
   "metadata": {},
   "source": [
    "filter the cpi dataframe to \"greater than 2010\""
   ]
  },
  {
   "cell_type": "code",
   "execution_count": 4,
   "id": "bc32beb6",
   "metadata": {},
   "outputs": [],
   "source": [
    "cpi_df['year'] = cpi_df['date'].dt.year\n",
    "filtered_cpi_df= cpi_df.query('year > 2014')"
   ]
  },
  {
   "cell_type": "code",
   "execution_count": 22,
   "id": "301dfc89",
   "metadata": {},
   "outputs": [
    {
     "name": "stdout",
     "output_type": "stream",
     "text": [
      "         date   cpi value  year\n",
      "68 2015-01-01  237.001750  2015\n",
      "69 2016-01-01  240.005417  2016\n",
      "70 2017-01-01  245.121000  2017\n",
      "71 2018-01-01  251.099500  2018\n",
      "72 2019-01-01  255.652583  2019\n",
      "73 2020-01-01  258.846167  2020\n",
      "74 2021-01-01  270.965833  2021\n",
      "75 2022-01-01  292.620583  2022\n",
      "76 2023-01-01  304.700750  2023\n",
      "77 2024-01-01         NaN  2024\n"
     ]
    }
   ],
   "source": [
    "print(filtered_cpi_df)"
   ]
  },
  {
   "cell_type": "code",
   "execution_count": 85,
   "id": "96834a5a",
   "metadata": {},
   "outputs": [
    {
     "data": {
      "text/plain": [
       "Text(0, 0.5, 'cpi value')"
      ]
     },
     "execution_count": 85,
     "metadata": {},
     "output_type": "execute_result"
    },
    {
     "data": {
      "image/png": "[encoded data removed]",
      "text/plain": [
       "<Figure size 432x288 with 1 Axes>"
      ]
     },
     "metadata": {
      "needs_background": "light"
     },
     "output_type": "display_data"
    }
   ],
   "source": [
    "plt.bar(filtered_cpi_df['year'], filtered_cpi_df['cpi value'], color='#0a0612')\n",
    "plt.xlabel('year')\n",
    "plt.ylabel('cpi value')"
   ]
  },
  {
   "cell_type": "markdown",
   "id": "56628ca0",
   "metadata": {},
   "source": [
    "filter the unemployent dataframe to \"greater than 2010\""
   ]
  },
  {
   "cell_type": "code",
   "execution_count": null,
   "id": "734f9603",
   "metadata": {},
   "outputs": [],
   "source": [
    "unemployment_df['year'] = unemployment_df['date'].dt.year\n",
    "filtered_unemployment_df = unemployment_df.query('year > 2014')\n"
   ]
  },
  {
   "cell_type": "code",
   "execution_count": 28,
   "id": "d639c497",
   "metadata": {},
   "outputs": [
    {
     "name": "stdout",
     "output_type": "stream",
     "text": [
      "         date     value  year\n",
      "67 2015-01-01  4.841667  2015\n",
      "68 2016-01-01  4.450000  2016\n",
      "69 2017-01-01  3.983333  2017\n",
      "70 2018-01-01  3.566667  2018\n",
      "71 2019-01-01  3.333333  2019\n",
      "72 2020-01-01  7.733333  2020\n",
      "73 2021-01-01  5.100000  2021\n",
      "74 2022-01-01  3.375000  2022\n",
      "75 2023-01-01  3.341667  2023\n",
      "76 2024-01-01       NaN  2024\n"
     ]
    }
   ],
   "source": [
    "print(filtered_unemployment_df)"
   ]
  },
  {
   "cell_type": "code",
   "execution_count": 84,
   "id": "108f4657",
   "metadata": {},
   "outputs": [
    {
     "data": {
      "text/plain": [
       "Text(0, 0.5, 'value')"
      ]
     },
     "execution_count": 84,
     "metadata": {},
     "output_type": "execute_result"
    },
    {
     "data": {
      "image/png": "[encoded data removed]",
      "text/plain": [
       "<Figure size 432x288 with 1 Axes>"
      ]
     },
     "metadata": {
      "needs_background": "light"
     },
     "output_type": "display_data"
    }
   ],
   "source": [
    "plt.bar(filtered_unemployment_df['year'], filtered_unemployment_df['value'], color='#0a0612')\n",
    "plt.xlabel('year')\n",
    "plt.ylabel('value')"
   ]
  },
  {
   "cell_type": "markdown",
   "id": "8d55e7e9",
   "metadata": {},
   "source": [
    "filter the pce dataframe to the last 4 quarters"
   ]
  },
  {
   "cell_type": "code",
   "execution_count": 46,
   "id": "e6c36c69",
   "metadata": {},
   "outputs": [],
   "source": [
    "filtered_pce_df= pce_df[['Industry','2023-Q4','2024-Q1','2024-Q2','2024-Q3']]"
   ]
  },
  {
   "cell_type": "markdown",
   "id": "2906ccb1",
   "metadata": {},
   "source": [
    "filter the Industry column of the pce dataframe further to only include the value of \"Goods\"\n"
   ]
  },
  {
   "cell_type": "code",
   "execution_count": 70,
   "id": "9cce0adf",
   "metadata": {},
   "outputs": [],
   "source": [
    "filtered_pce_dfv2 = filtered_pce_df[filtered_pce_df['Industry'] == 'Goods']"
   ]
  },
  {
   "cell_type": "code",
   "execution_count": 83,
   "id": "e0066bc0",
   "metadata": {},
   "outputs": [
    {
     "data": {
      "text/plain": [
       "<AxesSubplot:xlabel='Industry'>"
      ]
     },
     "execution_count": 83,
     "metadata": {},
     "output_type": "execute_result"
    },
    {
     "data": {
      "image/png": "[encoded data removed]",
      "text/plain": [
       "<Figure size 432x288 with 1 Axes>"
      ]
     },
     "metadata": {
      "needs_background": "light"
     },
     "output_type": "display_data"
    }
   ],
   "source": [
    "filtered_pce_dfv2.plot(x=\"Industry\", y=[\"2023-Q4\", \"2024-Q1\",\"2024-Q2\",\"2024-Q3\"], color=\"#0a0612\", kind=\"bar\", edgecolor='white', linewidth=9.0) "
   ]
  },
  {
   "cell_type": "markdown",
   "id": "30c3ef31",
   "metadata": {},
   "source": [
    "initial filter of the gdp dataframe to select Manufacturing for Industry"
   ]
  },
  {
   "cell_type": "code",
   "execution_count": 86,
   "id": "8f6d707d",
   "metadata": {},
   "outputs": [],
   "source": [
    "gdp_df2 = gdp_df.loc[gdp_df['Industry'] == 'Manufacturing']   "
   ]
  },
  {
   "cell_type": "markdown",
   "id": "68bc18fa",
   "metadata": {},
   "source": [
    "Then do a secondary filter on gdp to select only the last 4 quarters"
   ]
  },
  {
   "cell_type": "code",
   "execution_count": 88,
   "id": "81d1e357",
   "metadata": {},
   "outputs": [],
   "source": [
    "filtered_gdp_df = gdp_df2[['Industry','2023 Q3', '2023 Q4', '2024 Q1', '2024 Q2']]"
   ]
  },
  {
   "cell_type": "code",
   "execution_count": 92,
   "id": "fd823c56",
   "metadata": {},
   "outputs": [
    {
     "data": {
      "text/plain": [
       "<AxesSubplot:xlabel='Industry'>"
      ]
     },
     "execution_count": 92,
     "metadata": {},
     "output_type": "execute_result"
    },
    {
     "data": {
      "image/png": "[encoded data removed]",
      "text/plain": [
       "<Figure size 432x288 with 1 Axes>"
      ]
     },
     "metadata": {
      "needs_background": "light"
     },
     "output_type": "display_data"
    }
   ],
   "source": [
    "filtered_gdp_df.plot(x='Industry', y=['2023 Q3','2023 Q4','2024 Q1','2024 Q2'], color=\"#0a0612\", kind=\"bar\", edgecolor='white', linewidth=9.0)"
   ]
  },
  {
   "cell_type": "code",
   "execution_count": null,
   "id": "7d2b9634",
   "metadata": {},
   "outputs": [],
   "source": []
  }
 ],
 "metadata": {
  "kernelspec": {
   "display_name": "Python [conda env:base] *",
   "language": "python",
   "name": "conda-base-py"
  },
  "language_info": {
   "codemirror_mode": {
    "name": "ipython",
    "version": 3
   },
   "file_extension": ".py",
   "mimetype": "text/x-python",
   "name": "python",
   "nbconvert_exporter": "python",
   "pygments_lexer": "ipython3",
   "version": "3.12.7"
  }
 },
 "nbformat": 4,
 "nbformat_minor": 5
}
